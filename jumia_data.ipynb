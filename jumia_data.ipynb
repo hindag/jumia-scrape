{
 "cells": [
  {
   "cell_type": "code",
   "execution_count": 3,
   "id": "1bb0a6b4",
   "metadata": {},
   "outputs": [],
   "source": [
    "import pandas as pd\n",
    "import re\n"
   ]
  },
  {
   "cell_type": "code",
   "execution_count": 4,
   "id": "ff255ab8",
   "metadata": {},
   "outputs": [
    {
     "name": "stdout",
     "output_type": "stream",
     "text": [
      "Initial data shape: (4946, 16)\n"
     ]
    },
    {
     "data": {
      "text/html": [
       "<div>\n",
       "<style scoped>\n",
       "    .dataframe tbody tr th:only-of-type {\n",
       "        vertical-align: middle;\n",
       "    }\n",
       "\n",
       "    .dataframe tbody tr th {\n",
       "        vertical-align: top;\n",
       "    }\n",
       "\n",
       "    .dataframe thead th {\n",
       "        text-align: right;\n",
       "    }\n",
       "</style>\n",
       "<table border=\"1\" class=\"dataframe\">\n",
       "  <thead>\n",
       "    <tr style=\"text-align: right;\">\n",
       "      <th></th>\n",
       "      <th>product_id</th>\n",
       "      <th>product_name</th>\n",
       "      <th>brand</th>\n",
       "      <th>model</th>\n",
       "      <th>category</th>\n",
       "      <th>category_key</th>\n",
       "      <th>current_price</th>\n",
       "      <th>original_price</th>\n",
       "      <th>discount_percent</th>\n",
       "      <th>price_tier</th>\n",
       "      <th>value_score</th>\n",
       "      <th>is_on_sale</th>\n",
       "      <th>url</th>\n",
       "      <th>scraped_date</th>\n",
       "      <th>scraped_time</th>\n",
       "      <th>scraped_timestamp</th>\n",
       "    </tr>\n",
       "  </thead>\n",
       "  <tbody>\n",
       "    <tr>\n",
       "      <th>0</th>\n",
       "      <td>JUM_0001</td>\n",
       "      <td>NaN</td>\n",
       "      <td>NaN</td>\n",
       "      <td>NaN</td>\n",
       "      <td>Laptops &amp; Computers</td>\n",
       "      <td>ordinateurs-pc</td>\n",
       "      <td>2779.0</td>\n",
       "      <td>NaN</td>\n",
       "      <td>0.0</td>\n",
       "      <td>Budget</td>\n",
       "      <td>60.0</td>\n",
       "      <td>False</td>\n",
       "      <td>https://www.jumia.ma/lenovo-notebook-thinkpad-...</td>\n",
       "      <td>2025-09-26</td>\n",
       "      <td>19:02:54</td>\n",
       "      <td>2025-09-26T19:02:54.972612</td>\n",
       "    </tr>\n",
       "    <tr>\n",
       "      <th>1</th>\n",
       "      <td>JUM_0002</td>\n",
       "      <td>NaN</td>\n",
       "      <td>NaN</td>\n",
       "      <td>NaN</td>\n",
       "      <td>Laptops &amp; Computers</td>\n",
       "      <td>ordinateurs-pc</td>\n",
       "      <td>2590.0</td>\n",
       "      <td>NaN</td>\n",
       "      <td>0.0</td>\n",
       "      <td>Budget</td>\n",
       "      <td>60.0</td>\n",
       "      <td>False</td>\n",
       "      <td>https://www.jumia.ma/hp-elitebook-840-g5-intel...</td>\n",
       "      <td>2025-09-26</td>\n",
       "      <td>19:02:55</td>\n",
       "      <td>2025-09-26T19:02:55.277587</td>\n",
       "    </tr>\n",
       "    <tr>\n",
       "      <th>2</th>\n",
       "      <td>JUM_0003</td>\n",
       "      <td>NaN</td>\n",
       "      <td>NaN</td>\n",
       "      <td>NaN</td>\n",
       "      <td>Laptops &amp; Computers</td>\n",
       "      <td>ordinateurs-pc</td>\n",
       "      <td>3190.0</td>\n",
       "      <td>NaN</td>\n",
       "      <td>0.0</td>\n",
       "      <td>Mid-range</td>\n",
       "      <td>50.0</td>\n",
       "      <td>False</td>\n",
       "      <td>https://www.jumia.ma/hp-elitebook-840-g5-core-...</td>\n",
       "      <td>2025-09-26</td>\n",
       "      <td>19:02:55</td>\n",
       "      <td>2025-09-26T19:02:55.490303</td>\n",
       "    </tr>\n",
       "    <tr>\n",
       "      <th>3</th>\n",
       "      <td>JUM_0004</td>\n",
       "      <td>NaN</td>\n",
       "      <td>NaN</td>\n",
       "      <td>NaN</td>\n",
       "      <td>Laptops &amp; Computers</td>\n",
       "      <td>ordinateurs-pc</td>\n",
       "      <td>3799.0</td>\n",
       "      <td>NaN</td>\n",
       "      <td>0.0</td>\n",
       "      <td>Mid-range</td>\n",
       "      <td>50.0</td>\n",
       "      <td>False</td>\n",
       "      <td>https://www.jumia.ma/hp-pc-portable-elitebook-...</td>\n",
       "      <td>2025-09-26</td>\n",
       "      <td>19:02:55</td>\n",
       "      <td>2025-09-26T19:02:55.595837</td>\n",
       "    </tr>\n",
       "    <tr>\n",
       "      <th>4</th>\n",
       "      <td>JUM_0005</td>\n",
       "      <td>NaN</td>\n",
       "      <td>NaN</td>\n",
       "      <td>NaN</td>\n",
       "      <td>Laptops &amp; Computers</td>\n",
       "      <td>ordinateurs-pc</td>\n",
       "      <td>2589.0</td>\n",
       "      <td>NaN</td>\n",
       "      <td>0.0</td>\n",
       "      <td>Budget</td>\n",
       "      <td>60.0</td>\n",
       "      <td>False</td>\n",
       "      <td>https://www.jumia.ma/hp-pc-portable-hp-elitebo...</td>\n",
       "      <td>2025-09-26</td>\n",
       "      <td>19:02:55</td>\n",
       "      <td>2025-09-26T19:02:55.683804</td>\n",
       "    </tr>\n",
       "  </tbody>\n",
       "</table>\n",
       "</div>"
      ],
      "text/plain": [
       "  product_id product_name brand model             category    category_key  \\\n",
       "0   JUM_0001          NaN   NaN   NaN  Laptops & Computers  ordinateurs-pc   \n",
       "1   JUM_0002          NaN   NaN   NaN  Laptops & Computers  ordinateurs-pc   \n",
       "2   JUM_0003          NaN   NaN   NaN  Laptops & Computers  ordinateurs-pc   \n",
       "3   JUM_0004          NaN   NaN   NaN  Laptops & Computers  ordinateurs-pc   \n",
       "4   JUM_0005          NaN   NaN   NaN  Laptops & Computers  ordinateurs-pc   \n",
       "\n",
       "   current_price  original_price  discount_percent price_tier  value_score  \\\n",
       "0         2779.0             NaN               0.0     Budget         60.0   \n",
       "1         2590.0             NaN               0.0     Budget         60.0   \n",
       "2         3190.0             NaN               0.0  Mid-range         50.0   \n",
       "3         3799.0             NaN               0.0  Mid-range         50.0   \n",
       "4         2589.0             NaN               0.0     Budget         60.0   \n",
       "\n",
       "   is_on_sale                                                url scraped_date  \\\n",
       "0       False  https://www.jumia.ma/lenovo-notebook-thinkpad-...   2025-09-26   \n",
       "1       False  https://www.jumia.ma/hp-elitebook-840-g5-intel...   2025-09-26   \n",
       "2       False  https://www.jumia.ma/hp-elitebook-840-g5-core-...   2025-09-26   \n",
       "3       False  https://www.jumia.ma/hp-pc-portable-elitebook-...   2025-09-26   \n",
       "4       False  https://www.jumia.ma/hp-pc-portable-hp-elitebo...   2025-09-26   \n",
       "\n",
       "  scraped_time           scraped_timestamp  \n",
       "0     19:02:54  2025-09-26T19:02:54.972612  \n",
       "1     19:02:55  2025-09-26T19:02:55.277587  \n",
       "2     19:02:55  2025-09-26T19:02:55.490303  \n",
       "3     19:02:55  2025-09-26T19:02:55.595837  \n",
       "4     19:02:55  2025-09-26T19:02:55.683804  "
      ]
     },
     "execution_count": 4,
     "metadata": {},
     "output_type": "execute_result"
    }
   ],
   "source": [
    "df = pd.read_csv('jumia_enhanced_data_20250926_195337.csv')  # Replace with your file name\n",
    "print(\"Initial data shape:\", df.shape)\n",
    "df.head()"
   ]
  },
  {
   "cell_type": "code",
   "execution_count": 5,
   "id": "9f207de3",
   "metadata": {},
   "outputs": [],
   "source": [
    "df = df.replace(\"N/A\", pd.NA)\n",
    "df['brand'] = df['brand'].fillna('Unknown')\n",
    "df['model'] = df['model'].fillna('Unknown')\n",
    "df['product_name'] = df['product_name'].fillna('Unknown')\n"
   ]
  },
  {
   "cell_type": "code",
   "execution_count": 6,
   "id": "1ac531c6",
   "metadata": {},
   "outputs": [],
   "source": [
    "numeric_cols = ['current_price', 'original_price', 'discount_percent', 'value_score']\n",
    "for col in numeric_cols:\n",
    "    df[col] = pd.to_numeric(df[col], errors='coerce')"
   ]
  },
  {
   "cell_type": "code",
   "execution_count": 7,
   "id": "1ed2b3a0",
   "metadata": {},
   "outputs": [],
   "source": [
    "df['calculated_discount'] = ((df['original_price'] - df['current_price']) / df['original_price'] * 100).round(2)\n",
    "df['discount_percent'] = df.apply(\n",
    "    lambda x: x['calculated_discount'] if pd.isna(x['discount_percent']) or x['discount_percent'] == 0 else x['discount_percent'], axis=1\n",
    ")\n"
   ]
  },
  {
   "cell_type": "code",
   "execution_count": 8,
   "id": "4ecb19ba",
   "metadata": {},
   "outputs": [],
   "source": [
    "df['scraped_datetime'] = pd.to_datetime(df['scraped_timestamp'])"
   ]
  },
  {
   "cell_type": "code",
   "execution_count": 9,
   "id": "4ee99134",
   "metadata": {},
   "outputs": [],
   "source": [
    "df['product_name'] = df['product_name'].str.strip().str.title()"
   ]
  },
  {
   "cell_type": "code",
   "execution_count": 10,
   "id": "c2f1cb14",
   "metadata": {},
   "outputs": [],
   "source": [
    "df['is_on_sale'] = df['is_on_sale'].astype(bool)"
   ]
  },
  {
   "cell_type": "code",
   "execution_count": 11,
   "id": "f30fd24f",
   "metadata": {},
   "outputs": [],
   "source": [
    "def categorize_price(price):\n",
    "    if price < 1500:\n",
    "        return 'Budget'\n",
    "    elif price < 4000:\n",
    "        return 'Mid-range'\n",
    "    else:\n",
    "        return 'Premium'\n",
    "\n",
    "df['price_tier'] = df['current_price'].apply(categorize_price)"
   ]
  },
  {
   "cell_type": "code",
   "execution_count": 12,
   "id": "56a87f82",
   "metadata": {},
   "outputs": [],
   "source": [
    "def extract_ram(name):\n",
    "    match = re.search(r'(\\d+)\\s?Go', str(name))\n",
    "    return int(match.group(1)) if match else pd.NA\n",
    "\n",
    "def extract_ssd(name):\n",
    "    match = re.search(r'(\\d+)\\s?(Go\\s?SSD|SSD)', str(name), re.IGNORECASE)\n",
    "    return int(match.group(1)) if match else pd.NA\n",
    "\n",
    "df['RAM_GB'] = df['product_name'].apply(extract_ram)\n",
    "df['SSD_GB'] = df['product_name'].apply(extract_ssd)"
   ]
  },
  {
   "cell_type": "code",
   "execution_count": 13,
   "id": "832b8182",
   "metadata": {},
   "outputs": [
    {
     "name": "stdout",
     "output_type": "stream",
     "text": [
      "Cleaned data saved. Shape: (4946, 20)\n"
     ]
    }
   ],
   "source": [
    "df.to_csv('jumia_cleaned.csv', index=False)\n",
    "print(\"Cleaned data saved. Shape:\", df.shape)"
   ]
  },
  {
   "cell_type": "code",
   "execution_count": 14,
   "id": "09034de8",
   "metadata": {},
   "outputs": [],
   "source": [
    "# Convert to title case for consistency\n",
    "df['brand'] = df['brand'].str.strip().str.title()"
   ]
  },
  {
   "cell_type": "code",
   "execution_count": 15,
   "id": "0d7228fd",
   "metadata": {},
   "outputs": [],
   "source": [
    "# Define common replacements for standardization\n",
    "brand_replacements = {\n",
    "    'Samsung': 'Samsung',\n",
    "    'Hp': 'HP',\n",
    "    'Dell': 'Dell',\n",
    "    'Lenovo': 'Lenovo',\n",
    "    'Asus': 'ASUS',\n",
    "    'Xiaomi': 'Xiaomi',\n",
    "    'Apple': 'Apple',\n",
    "    'Iphone': 'Apple',  # Group iPhone listings under Apple\n",
    "    'Lg': 'LG',\n",
    "    'Tcl': 'TCL',\n",
    "    'Hisense': 'Hisense',\n",
    "    'Sony': 'Sony',\n",
    "    'Playstation': 'PlayStation',\n",
    "    'Xbox': 'Xbox',\n",
    "    'Nokia': 'Nokia',\n",
    "    'Huawei': 'Huawei'\n",
    "}\n"
   ]
  },
  {
   "cell_type": "code",
   "execution_count": 16,
   "id": "6395ad6f",
   "metadata": {},
   "outputs": [
    {
     "name": "stdout",
     "output_type": "stream",
     "text": [
      "Unique Brands After Standardization: 489\n"
     ]
    }
   ],
   "source": [
    "# Apply the standardization\n",
    "def standardize_brand(brand):\n",
    "    # Check for direct matches (case-insensitive search for flexibility)\n",
    "    for key, value in brand_replacements.items():\n",
    "        if key.lower() in str(brand).lower():\n",
    "            return value\n",
    "    return brand\n",
    "\n",
    "df['brand'] = df['brand'].apply(standardize_brand)\n",
    "\n",
    "print(f\"Unique Brands After Standardization: {df['brand'].nunique()}\")"
   ]
  },
  {
   "cell_type": "code",
   "execution_count": 20,
   "id": "df04e80c",
   "metadata": {},
   "outputs": [],
   "source": [
    "# Recalculate and enforce logic: if current_price is missing or zero, assume original_price is zero too.\n",
    "df.loc[df['current_price'] <= 0, ['original_price', 'discount_percent', 'calculated_discount']] = 0"
   ]
  },
  {
   "cell_type": "code",
   "execution_count": 25,
   "id": "02a7b233",
   "metadata": {},
   "outputs": [],
   "source": [
    "condition = df['current_price'] >= df['original_price']"
   ]
  },
  {
   "cell_type": "code",
   "execution_count": 26,
   "id": "1f4cb418",
   "metadata": {},
   "outputs": [],
   "source": [
    "# Use the boolean condition to set each column individually\n",
    "df.loc[condition, 'original_price'] = df['current_price']\n",
    "df.loc[condition, 'discount_percent'] = 0.0\n",
    "df.loc[condition, 'calculated_discount'] = 0.0"
   ]
  },
  {
   "cell_type": "code",
   "execution_count": null,
   "id": "5c3b4026",
   "metadata": {},
   "outputs": [],
   "source": []
  }
 ],
 "metadata": {
  "kernelspec": {
   "display_name": "Python 3",
   "language": "python",
   "name": "python3"
  },
  "language_info": {
   "codemirror_mode": {
    "name": "ipython",
    "version": 3
   },
   "file_extension": ".py",
   "mimetype": "text/x-python",
   "name": "python",
   "nbconvert_exporter": "python",
   "pygments_lexer": "ipython3",
   "version": "3.12.10"
  }
 },
 "nbformat": 4,
 "nbformat_minor": 5
}
